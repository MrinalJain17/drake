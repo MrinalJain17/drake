{
 "cells": [
  {
   "cell_type": "code",
   "execution_count": 1,
   "metadata": {},
   "outputs": [],
   "source": [
    "import sys\n",
    "sys.path.append('../drake')\n",
    "\n",
    "import numpy as np\n",
    "import pandas as pd\n",
    "import seaborn as sns\n",
    "\n",
    "from static import countries, indices\n",
    "from utils import Entity\n",
    "from cluster import ConsensusClustering"
   ]
  },
  {
   "cell_type": "code",
   "execution_count": 2,
   "metadata": {},
   "outputs": [],
   "source": [
    "cols = [str(i) for i in range(1991, 2019)]\n",
    "cols = [\"Country Name\", \"Indicator Name\"] + cols\n",
    "\n",
    "data = pd.read_csv(\n",
    "    \"../data/WDI_csv/WDIData.csv\",\n",
    "    usecols=cols\n",
    ")"
   ]
  },
  {
   "cell_type": "code",
   "execution_count": 3,
   "metadata": {},
   "outputs": [
    {
     "data": {
      "text/html": [
       "<div>\n",
       "<style scoped>\n",
       "    .dataframe tbody tr th:only-of-type {\n",
       "        vertical-align: middle;\n",
       "    }\n",
       "\n",
       "    .dataframe tbody tr th {\n",
       "        vertical-align: top;\n",
       "    }\n",
       "\n",
       "    .dataframe thead th {\n",
       "        text-align: right;\n",
       "    }\n",
       "</style>\n",
       "<table border=\"1\" class=\"dataframe\">\n",
       "  <thead>\n",
       "    <tr style=\"text-align: right;\">\n",
       "      <th></th>\n",
       "      <th>Country Name</th>\n",
       "      <th>Indicator Name</th>\n",
       "      <th>1991</th>\n",
       "      <th>1992</th>\n",
       "      <th>1993</th>\n",
       "      <th>1994</th>\n",
       "      <th>1995</th>\n",
       "      <th>1996</th>\n",
       "      <th>1997</th>\n",
       "      <th>1998</th>\n",
       "      <th>...</th>\n",
       "      <th>2009</th>\n",
       "      <th>2010</th>\n",
       "      <th>2011</th>\n",
       "      <th>2012</th>\n",
       "      <th>2013</th>\n",
       "      <th>2014</th>\n",
       "      <th>2015</th>\n",
       "      <th>2016</th>\n",
       "      <th>2017</th>\n",
       "      <th>2018</th>\n",
       "    </tr>\n",
       "  </thead>\n",
       "  <tbody>\n",
       "    <tr>\n",
       "      <th>0</th>\n",
       "      <td>Albania</td>\n",
       "      <td>Foreign direct investment, net (BoP, current US$)</td>\n",
       "      <td>NaN</td>\n",
       "      <td>-2.000000e+07</td>\n",
       "      <td>-5.800000e+07</td>\n",
       "      <td>-5.300000e+07</td>\n",
       "      <td>-7.000000e+07</td>\n",
       "      <td>-9.010000e+07</td>\n",
       "      <td>-4.750000e+07</td>\n",
       "      <td>-4.501000e+07</td>\n",
       "      <td>...</td>\n",
       "      <td>-9.507614e+08</td>\n",
       "      <td>-1.043512e+09</td>\n",
       "      <td>-8.466167e+08</td>\n",
       "      <td>-8.348030e+08</td>\n",
       "      <td>-1.225674e+09</td>\n",
       "      <td>-1.074294e+09</td>\n",
       "      <td>-9.102567e+08</td>\n",
       "      <td>-1.037329e+09</td>\n",
       "      <td>-1.128922e+09</td>\n",
       "      <td>-1.208920e+09</td>\n",
       "    </tr>\n",
       "    <tr>\n",
       "      <th>1</th>\n",
       "      <td>Albania</td>\n",
       "      <td>GDP (current US$)</td>\n",
       "      <td>1.099559e+09</td>\n",
       "      <td>6.521750e+08</td>\n",
       "      <td>1.185315e+09</td>\n",
       "      <td>1.880952e+09</td>\n",
       "      <td>2.392765e+09</td>\n",
       "      <td>3.199643e+09</td>\n",
       "      <td>2.258516e+09</td>\n",
       "      <td>2.545967e+09</td>\n",
       "      <td>...</td>\n",
       "      <td>1.204422e+10</td>\n",
       "      <td>1.192696e+10</td>\n",
       "      <td>1.289087e+10</td>\n",
       "      <td>1.231978e+10</td>\n",
       "      <td>1.277628e+10</td>\n",
       "      <td>1.322824e+10</td>\n",
       "      <td>1.138693e+10</td>\n",
       "      <td>1.186135e+10</td>\n",
       "      <td>1.302506e+10</td>\n",
       "      <td>1.510250e+10</td>\n",
       "    </tr>\n",
       "    <tr>\n",
       "      <th>2</th>\n",
       "      <td>Albania</td>\n",
       "      <td>Gross domestic savings (current US$)</td>\n",
       "      <td>-1.880236e+08</td>\n",
       "      <td>-5.668191e+08</td>\n",
       "      <td>-4.562474e+08</td>\n",
       "      <td>-2.973055e+08</td>\n",
       "      <td>-1.296032e+08</td>\n",
       "      <td>-1.148987e+08</td>\n",
       "      <td>-1.890782e+08</td>\n",
       "      <td>-1.390249e+08</td>\n",
       "      <td>...</td>\n",
       "      <td>9.669072e+08</td>\n",
       "      <td>1.280162e+09</td>\n",
       "      <td>1.382727e+09</td>\n",
       "      <td>1.378375e+09</td>\n",
       "      <td>1.142852e+09</td>\n",
       "      <td>1.026611e+09</td>\n",
       "      <td>9.331103e+08</td>\n",
       "      <td>9.215835e+08</td>\n",
       "      <td>1.145142e+09</td>\n",
       "      <td>1.391769e+09</td>\n",
       "    </tr>\n",
       "    <tr>\n",
       "      <th>3</th>\n",
       "      <td>Albania</td>\n",
       "      <td>Inflation, consumer prices (annual %)</td>\n",
       "      <td>NaN</td>\n",
       "      <td>2.260054e+02</td>\n",
       "      <td>8.500475e+01</td>\n",
       "      <td>2.256505e+01</td>\n",
       "      <td>7.793219e+00</td>\n",
       "      <td>1.272548e+01</td>\n",
       "      <td>3.318027e+01</td>\n",
       "      <td>2.064286e+01</td>\n",
       "      <td>...</td>\n",
       "      <td>2.231397e+00</td>\n",
       "      <td>3.622335e+00</td>\n",
       "      <td>3.429123e+00</td>\n",
       "      <td>2.031596e+00</td>\n",
       "      <td>1.937618e+00</td>\n",
       "      <td>1.625865e+00</td>\n",
       "      <td>1.896174e+00</td>\n",
       "      <td>1.275432e+00</td>\n",
       "      <td>1.986661e+00</td>\n",
       "      <td>2.028060e+00</td>\n",
       "    </tr>\n",
       "    <tr>\n",
       "      <th>4</th>\n",
       "      <td>Albania</td>\n",
       "      <td>Labor force participation rate, total (% of to...</td>\n",
       "      <td>6.483500e+01</td>\n",
       "      <td>6.487100e+01</td>\n",
       "      <td>6.409800e+01</td>\n",
       "      <td>6.332700e+01</td>\n",
       "      <td>6.232000e+01</td>\n",
       "      <td>6.198900e+01</td>\n",
       "      <td>6.264100e+01</td>\n",
       "      <td>6.237200e+01</td>\n",
       "      <td>...</td>\n",
       "      <td>5.452100e+01</td>\n",
       "      <td>5.427000e+01</td>\n",
       "      <td>5.501800e+01</td>\n",
       "      <td>5.586100e+01</td>\n",
       "      <td>5.230900e+01</td>\n",
       "      <td>5.295200e+01</td>\n",
       "      <td>5.504100e+01</td>\n",
       "      <td>5.550200e+01</td>\n",
       "      <td>5.590800e+01</td>\n",
       "      <td>5.585300e+01</td>\n",
       "    </tr>\n",
       "    <tr>\n",
       "      <th>...</th>\n",
       "      <td>...</td>\n",
       "      <td>...</td>\n",
       "      <td>...</td>\n",
       "      <td>...</td>\n",
       "      <td>...</td>\n",
       "      <td>...</td>\n",
       "      <td>...</td>\n",
       "      <td>...</td>\n",
       "      <td>...</td>\n",
       "      <td>...</td>\n",
       "      <td>...</td>\n",
       "      <td>...</td>\n",
       "      <td>...</td>\n",
       "      <td>...</td>\n",
       "      <td>...</td>\n",
       "      <td>...</td>\n",
       "      <td>...</td>\n",
       "      <td>...</td>\n",
       "      <td>...</td>\n",
       "      <td>...</td>\n",
       "      <td>...</td>\n",
       "    </tr>\n",
       "    <tr>\n",
       "      <th>513</th>\n",
       "      <td>United States</td>\n",
       "      <td>Gross domestic savings (current US$)</td>\n",
       "      <td>1.209823e+12</td>\n",
       "      <td>1.274385e+12</td>\n",
       "      <td>1.333535e+12</td>\n",
       "      <td>1.458170e+12</td>\n",
       "      <td>1.535416e+12</td>\n",
       "      <td>1.655638e+12</td>\n",
       "      <td>1.820236e+12</td>\n",
       "      <td>1.917962e+12</td>\n",
       "      <td>...</td>\n",
       "      <td>2.176122e+12</td>\n",
       "      <td>2.296074e+12</td>\n",
       "      <td>2.389718e+12</td>\n",
       "      <td>2.674213e+12</td>\n",
       "      <td>2.935633e+12</td>\n",
       "      <td>3.133576e+12</td>\n",
       "      <td>3.318772e+12</td>\n",
       "      <td>3.287282e+12</td>\n",
       "      <td>3.416120e+12</td>\n",
       "      <td>3.641363e+12</td>\n",
       "    </tr>\n",
       "    <tr>\n",
       "      <th>514</th>\n",
       "      <td>United States</td>\n",
       "      <td>Inflation, consumer prices (annual %)</td>\n",
       "      <td>4.234964e+00</td>\n",
       "      <td>3.028820e+00</td>\n",
       "      <td>2.951657e+00</td>\n",
       "      <td>2.607442e+00</td>\n",
       "      <td>2.805420e+00</td>\n",
       "      <td>2.931204e+00</td>\n",
       "      <td>2.337690e+00</td>\n",
       "      <td>1.552279e+00</td>\n",
       "      <td>...</td>\n",
       "      <td>-3.555463e-01</td>\n",
       "      <td>1.640043e+00</td>\n",
       "      <td>3.156842e+00</td>\n",
       "      <td>2.069337e+00</td>\n",
       "      <td>1.464833e+00</td>\n",
       "      <td>1.622223e+00</td>\n",
       "      <td>1.186271e-01</td>\n",
       "      <td>1.261583e+00</td>\n",
       "      <td>2.130110e+00</td>\n",
       "      <td>2.442583e+00</td>\n",
       "    </tr>\n",
       "    <tr>\n",
       "      <th>515</th>\n",
       "      <td>United States</td>\n",
       "      <td>Labor force participation rate, total (% of to...</td>\n",
       "      <td>6.506400e+01</td>\n",
       "      <td>6.533300e+01</td>\n",
       "      <td>6.523100e+01</td>\n",
       "      <td>6.568200e+01</td>\n",
       "      <td>6.582700e+01</td>\n",
       "      <td>6.600100e+01</td>\n",
       "      <td>6.632700e+01</td>\n",
       "      <td>6.629700e+01</td>\n",
       "      <td>...</td>\n",
       "      <td>6.430600e+01</td>\n",
       "      <td>6.356900e+01</td>\n",
       "      <td>6.300000e+01</td>\n",
       "      <td>6.304600e+01</td>\n",
       "      <td>6.250100e+01</td>\n",
       "      <td>6.219600e+01</td>\n",
       "      <td>6.200700e+01</td>\n",
       "      <td>6.215800e+01</td>\n",
       "      <td>6.229400e+01</td>\n",
       "      <td>6.231300e+01</td>\n",
       "    </tr>\n",
       "    <tr>\n",
       "      <th>516</th>\n",
       "      <td>United States</td>\n",
       "      <td>Net trade in goods (BoP, current US$)</td>\n",
       "      <td>-7.694000e+10</td>\n",
       "      <td>-9.689700e+10</td>\n",
       "      <td>-1.324510e+11</td>\n",
       "      <td>-1.658310e+11</td>\n",
       "      <td>-1.741700e+11</td>\n",
       "      <td>-1.910000e+11</td>\n",
       "      <td>-1.984280e+11</td>\n",
       "      <td>-2.482210e+11</td>\n",
       "      <td>...</td>\n",
       "      <td>-5.096960e+11</td>\n",
       "      <td>-6.486730e+11</td>\n",
       "      <td>-7.409970e+11</td>\n",
       "      <td>-7.411180e+11</td>\n",
       "      <td>-7.005380e+11</td>\n",
       "      <td>-7.499170e+11</td>\n",
       "      <td>-7.618660e+11</td>\n",
       "      <td>-7.498010e+11</td>\n",
       "      <td>-8.051970e+11</td>\n",
       "      <td>-8.873360e+11</td>\n",
       "    </tr>\n",
       "    <tr>\n",
       "      <th>517</th>\n",
       "      <td>United States</td>\n",
       "      <td>Unemployment, total (% of total labor force) (...</td>\n",
       "      <td>6.800000e+00</td>\n",
       "      <td>7.500000e+00</td>\n",
       "      <td>6.900000e+00</td>\n",
       "      <td>6.119000e+00</td>\n",
       "      <td>5.650000e+00</td>\n",
       "      <td>5.451000e+00</td>\n",
       "      <td>5.000000e+00</td>\n",
       "      <td>4.510000e+00</td>\n",
       "      <td>...</td>\n",
       "      <td>9.254000e+00</td>\n",
       "      <td>9.633000e+00</td>\n",
       "      <td>8.949000e+00</td>\n",
       "      <td>8.069000e+00</td>\n",
       "      <td>7.375000e+00</td>\n",
       "      <td>6.168000e+00</td>\n",
       "      <td>5.280000e+00</td>\n",
       "      <td>4.869000e+00</td>\n",
       "      <td>4.355000e+00</td>\n",
       "      <td>3.896000e+00</td>\n",
       "    </tr>\n",
       "  </tbody>\n",
       "</table>\n",
       "<p>518 rows × 30 columns</p>\n",
       "</div>"
      ],
      "text/plain": [
       "      Country Name                                     Indicator Name  \\\n",
       "0          Albania  Foreign direct investment, net (BoP, current US$)   \n",
       "1          Albania                                  GDP (current US$)   \n",
       "2          Albania               Gross domestic savings (current US$)   \n",
       "3          Albania              Inflation, consumer prices (annual %)   \n",
       "4          Albania  Labor force participation rate, total (% of to...   \n",
       "..             ...                                                ...   \n",
       "513  United States               Gross domestic savings (current US$)   \n",
       "514  United States              Inflation, consumer prices (annual %)   \n",
       "515  United States  Labor force participation rate, total (% of to...   \n",
       "516  United States              Net trade in goods (BoP, current US$)   \n",
       "517  United States  Unemployment, total (% of total labor force) (...   \n",
       "\n",
       "             1991          1992          1993          1994          1995  \\\n",
       "0             NaN -2.000000e+07 -5.800000e+07 -5.300000e+07 -7.000000e+07   \n",
       "1    1.099559e+09  6.521750e+08  1.185315e+09  1.880952e+09  2.392765e+09   \n",
       "2   -1.880236e+08 -5.668191e+08 -4.562474e+08 -2.973055e+08 -1.296032e+08   \n",
       "3             NaN  2.260054e+02  8.500475e+01  2.256505e+01  7.793219e+00   \n",
       "4    6.483500e+01  6.487100e+01  6.409800e+01  6.332700e+01  6.232000e+01   \n",
       "..            ...           ...           ...           ...           ...   \n",
       "513  1.209823e+12  1.274385e+12  1.333535e+12  1.458170e+12  1.535416e+12   \n",
       "514  4.234964e+00  3.028820e+00  2.951657e+00  2.607442e+00  2.805420e+00   \n",
       "515  6.506400e+01  6.533300e+01  6.523100e+01  6.568200e+01  6.582700e+01   \n",
       "516 -7.694000e+10 -9.689700e+10 -1.324510e+11 -1.658310e+11 -1.741700e+11   \n",
       "517  6.800000e+00  7.500000e+00  6.900000e+00  6.119000e+00  5.650000e+00   \n",
       "\n",
       "             1996          1997          1998  ...          2009  \\\n",
       "0   -9.010000e+07 -4.750000e+07 -4.501000e+07  ... -9.507614e+08   \n",
       "1    3.199643e+09  2.258516e+09  2.545967e+09  ...  1.204422e+10   \n",
       "2   -1.148987e+08 -1.890782e+08 -1.390249e+08  ...  9.669072e+08   \n",
       "3    1.272548e+01  3.318027e+01  2.064286e+01  ...  2.231397e+00   \n",
       "4    6.198900e+01  6.264100e+01  6.237200e+01  ...  5.452100e+01   \n",
       "..            ...           ...           ...  ...           ...   \n",
       "513  1.655638e+12  1.820236e+12  1.917962e+12  ...  2.176122e+12   \n",
       "514  2.931204e+00  2.337690e+00  1.552279e+00  ... -3.555463e-01   \n",
       "515  6.600100e+01  6.632700e+01  6.629700e+01  ...  6.430600e+01   \n",
       "516 -1.910000e+11 -1.984280e+11 -2.482210e+11  ... -5.096960e+11   \n",
       "517  5.451000e+00  5.000000e+00  4.510000e+00  ...  9.254000e+00   \n",
       "\n",
       "             2010          2011          2012          2013          2014  \\\n",
       "0   -1.043512e+09 -8.466167e+08 -8.348030e+08 -1.225674e+09 -1.074294e+09   \n",
       "1    1.192696e+10  1.289087e+10  1.231978e+10  1.277628e+10  1.322824e+10   \n",
       "2    1.280162e+09  1.382727e+09  1.378375e+09  1.142852e+09  1.026611e+09   \n",
       "3    3.622335e+00  3.429123e+00  2.031596e+00  1.937618e+00  1.625865e+00   \n",
       "4    5.427000e+01  5.501800e+01  5.586100e+01  5.230900e+01  5.295200e+01   \n",
       "..            ...           ...           ...           ...           ...   \n",
       "513  2.296074e+12  2.389718e+12  2.674213e+12  2.935633e+12  3.133576e+12   \n",
       "514  1.640043e+00  3.156842e+00  2.069337e+00  1.464833e+00  1.622223e+00   \n",
       "515  6.356900e+01  6.300000e+01  6.304600e+01  6.250100e+01  6.219600e+01   \n",
       "516 -6.486730e+11 -7.409970e+11 -7.411180e+11 -7.005380e+11 -7.499170e+11   \n",
       "517  9.633000e+00  8.949000e+00  8.069000e+00  7.375000e+00  6.168000e+00   \n",
       "\n",
       "             2015          2016          2017          2018  \n",
       "0   -9.102567e+08 -1.037329e+09 -1.128922e+09 -1.208920e+09  \n",
       "1    1.138693e+10  1.186135e+10  1.302506e+10  1.510250e+10  \n",
       "2    9.331103e+08  9.215835e+08  1.145142e+09  1.391769e+09  \n",
       "3    1.896174e+00  1.275432e+00  1.986661e+00  2.028060e+00  \n",
       "4    5.504100e+01  5.550200e+01  5.590800e+01  5.585300e+01  \n",
       "..            ...           ...           ...           ...  \n",
       "513  3.318772e+12  3.287282e+12  3.416120e+12  3.641363e+12  \n",
       "514  1.186271e-01  1.261583e+00  2.130110e+00  2.442583e+00  \n",
       "515  6.200700e+01  6.215800e+01  6.229400e+01  6.231300e+01  \n",
       "516 -7.618660e+11 -7.498010e+11 -8.051970e+11 -8.873360e+11  \n",
       "517  5.280000e+00  4.869000e+00  4.355000e+00  3.896000e+00  \n",
       "\n",
       "[518 rows x 30 columns]"
      ]
     },
     "execution_count": 3,
     "metadata": {},
     "output_type": "execute_result"
    }
   ],
   "source": [
    "data = data[data[\"Country Name\"].isin(countries)].reset_index(drop=True)\n",
    "data = data[data[\"Indicator Name\"].isin(indices)].reset_index(drop=True)\n",
    "data"
   ]
  },
  {
   "cell_type": "code",
   "execution_count": 4,
   "metadata": {},
   "outputs": [],
   "source": [
    "grouped = data.groupby(\"Country Name\")\n",
    "entity_set = {}\n",
    "\n",
    "for (name, group) in grouped:\n",
    "    entity = group.drop(\"Country Name\", axis=1).set_index(\"Indicator Name\").T\n",
    "    entity = entity[indices]\n",
    "    raw_mean = entity.mean().to_numpy()\n",
    "    raw_variance = entity.var().to_numpy()\n",
    "    scaled_mean = (raw_mean - np.mean(raw_mean)) / np.std(raw_mean)\n",
    "    scaled_variance = (raw_variance - np.mean(raw_variance)) / np.std(raw_variance)\n",
    "    corr = entity.corr().to_numpy()\n",
    "    entity_set[name] = Entity(name, corr, scaled_mean, scaled_variance)"
   ]
  },
  {
   "cell_type": "code",
   "execution_count": 5,
   "metadata": {},
   "outputs": [
    {
     "data": {
      "text/plain": [
       "array([ 2.32406163, -0.4971928 , -0.4971928 , -0.66829923, -0.4971928 ,\n",
       "       -0.52764417,  0.36346017,  2.43650653, -0.46024105, -0.46024105,\n",
       "       -0.43783967, -0.46024105, -0.45953691, -0.15840681, -0.38243705,\n",
       "       -0.01556378, -0.02810203,  0.91700924,  0.93805504, -0.91100531,\n",
       "       -0.96404013,  0.85414554,  0.13880067,  0.31642895, -0.19432496,\n",
       "       -0.92446902,  0.30785458,  0.15476263, -0.93977997, -0.15924733,\n",
       "        0.38544683, -0.97889515, -0.92314544, -0.3832459 ,  0.99496742])"
      ]
     },
     "execution_count": 5,
     "metadata": {},
     "output_type": "execute_result"
    }
   ],
   "source": [
    "entity_set[\"India\"].dragon[:]"
   ]
  },
  {
   "cell_type": "code",
   "execution_count": 6,
   "metadata": {},
   "outputs": [],
   "source": [
    "# groups = data.groupby(\"Indicator Name\")\n",
    "# \n",
    "# cols = [str(i) for i in range(1991, 2019)]\n",
    "# cols = [\"Country Name\"] + cols\n",
    "# \n",
    "# valid_countries = set(countries)\n",
    "# for i in indices:\n",
    "#     temp = groups.get_group(i).loc[:, cols]\n",
    "#     temp_countries = temp[(temp.isnull().sum(axis=1) < 2)][\"Country Name\"].tolist()\n",
    "#     valid_countries = valid_countries.intersection(temp_countries)\n",
    "#     \n",
    "# len(valid_countries)"
   ]
  },
  {
   "cell_type": "code",
   "execution_count": 7,
   "metadata": {},
   "outputs": [
    {
     "data": {
      "text/plain": [
       "array([[ 2.37178915, -0.2884212 , -0.2884212 , ..., -0.95493054,\n",
       "        -0.58957934,  0.94375082],\n",
       "       [ 2.36643715, -0.50250541, -0.50250541, ..., -0.89863518,\n",
       "        -0.65223955,  0.99582986],\n",
       "       [ 2.23879155, -0.59836727, -0.59836727, ..., -0.02126187,\n",
       "        -0.60515982,  0.97592264],\n",
       "       ...,\n",
       "       [ 2.36852209, -0.47034789, -0.47034789, ..., -0.7600081 ,\n",
       "         0.51776727,  0.99293202],\n",
       "       [ 2.41378178, -0.45325527, -0.45325527, ..., -0.29979536,\n",
       "        -0.6731451 ,  0.96582503],\n",
       "       [ 2.40491878, -0.46703006, -0.46703006, ..., -0.15744703,\n",
       "        -0.19734853,  0.97190282]])"
      ]
     },
     "execution_count": 7,
     "metadata": {},
     "output_type": "execute_result"
    }
   ],
   "source": [
    "mat = []\n",
    "\n",
    "for k, v in entity_set.items():\n",
    "    mat.append(v.dragon)\n",
    "    \n",
    "mat = np.array(mat)\n",
    "mat"
   ]
  },
  {
   "cell_type": "code",
   "execution_count": 8,
   "metadata": {},
   "outputs": [
    {
     "data": {
      "application/vnd.jupyter.widget-view+json": {
       "model_id": "22eb0466d2444551a59dc7fbc6ae7b6f",
       "version_major": 2,
       "version_minor": 0
      },
      "text/plain": [
       "HBox(children=(FloatProgress(value=0.0, max=7.0), HTML(value='')))"
      ]
     },
     "metadata": {},
     "output_type": "display_data"
    },
    {
     "name": "stdout",
     "output_type": "stream",
     "text": [
      "Clustering using k=2\n"
     ]
    },
    {
     "data": {
      "application/vnd.jupyter.widget-view+json": {
       "model_id": "d9d50af4bd07402783283cbd37f84df8",
       "version_major": 2,
       "version_minor": 0
      },
      "text/plain": [
       "HBox(children=(FloatProgress(value=0.0, max=1000.0), HTML(value='')))"
      ]
     },
     "metadata": {},
     "output_type": "display_data"
    },
    {
     "name": "stdout",
     "output_type": "stream",
     "text": [
      "\n",
      "Clustering using k=3\n"
     ]
    },
    {
     "data": {
      "application/vnd.jupyter.widget-view+json": {
       "model_id": "0908afb899e04e58b2879caa5301660a",
       "version_major": 2,
       "version_minor": 0
      },
      "text/plain": [
       "HBox(children=(FloatProgress(value=0.0, max=1000.0), HTML(value='')))"
      ]
     },
     "metadata": {},
     "output_type": "display_data"
    },
    {
     "name": "stdout",
     "output_type": "stream",
     "text": [
      "\n",
      "Clustering using k=4\n"
     ]
    },
    {
     "data": {
      "application/vnd.jupyter.widget-view+json": {
       "model_id": "96edb1d21fcd44ed8ef19746cf578d51",
       "version_major": 2,
       "version_minor": 0
      },
      "text/plain": [
       "HBox(children=(FloatProgress(value=0.0, max=1000.0), HTML(value='')))"
      ]
     },
     "metadata": {},
     "output_type": "display_data"
    },
    {
     "name": "stdout",
     "output_type": "stream",
     "text": [
      "\n",
      "Clustering using k=5\n"
     ]
    },
    {
     "data": {
      "application/vnd.jupyter.widget-view+json": {
       "model_id": "4080cda39a144222a3937837855fa749",
       "version_major": 2,
       "version_minor": 0
      },
      "text/plain": [
       "HBox(children=(FloatProgress(value=0.0, max=1000.0), HTML(value='')))"
      ]
     },
     "metadata": {},
     "output_type": "display_data"
    },
    {
     "name": "stdout",
     "output_type": "stream",
     "text": [
      "\n",
      "Clustering using k=6\n"
     ]
    },
    {
     "data": {
      "application/vnd.jupyter.widget-view+json": {
       "model_id": "e853ea916ef44426815f8fd886fdacef",
       "version_major": 2,
       "version_minor": 0
      },
      "text/plain": [
       "HBox(children=(FloatProgress(value=0.0, max=1000.0), HTML(value='')))"
      ]
     },
     "metadata": {},
     "output_type": "display_data"
    },
    {
     "name": "stdout",
     "output_type": "stream",
     "text": [
      "\n",
      "Clustering using k=7\n"
     ]
    },
    {
     "data": {
      "application/vnd.jupyter.widget-view+json": {
       "model_id": "595acb49882b40bf80fa4a10a553f1f1",
       "version_major": 2,
       "version_minor": 0
      },
      "text/plain": [
       "HBox(children=(FloatProgress(value=0.0, max=1000.0), HTML(value='')))"
      ]
     },
     "metadata": {},
     "output_type": "display_data"
    },
    {
     "name": "stdout",
     "output_type": "stream",
     "text": [
      "\n",
      "Clustering using k=8\n"
     ]
    },
    {
     "data": {
      "application/vnd.jupyter.widget-view+json": {
       "model_id": "757702047f0d43f69a5e09edbb3e82b4",
       "version_major": 2,
       "version_minor": 0
      },
      "text/plain": [
       "HBox(children=(FloatProgress(value=0.0, max=1000.0), HTML(value='')))"
      ]
     },
     "metadata": {},
     "output_type": "display_data"
    },
    {
     "name": "stdout",
     "output_type": "stream",
     "text": [
      "\n",
      "\n"
     ]
    }
   ],
   "source": [
    "cluster = ConsensusClustering(n_clusters=list(range(2, 9)), iterations=1000, random_state=42)\n",
    "cluster = cluster.fit(mat)"
   ]
  },
  {
   "cell_type": "code",
   "execution_count": 9,
   "metadata": {},
   "outputs": [
    {
     "data": {
      "text/plain": [
       "{2: 320.77557667140036,\n",
       " 3: 411.2832382196519,\n",
       " 4: 132.52822087640337,\n",
       " 5: 96.92008117635913,\n",
       " 6: 78.62192356960087,\n",
       " 7: 61.75626535544271,\n",
       " 8: 66.92765591214223}"
      ]
     },
     "execution_count": 9,
     "metadata": {},
     "output_type": "execute_result"
    }
   ],
   "source": [
    "cluster.scores"
   ]
  },
  {
   "cell_type": "code",
   "execution_count": 10,
   "metadata": {},
   "outputs": [
    {
     "data": {
      "text/plain": [
       "array([[0., 1., 1., 1., 1., 1., 1., 0., 0., 1., 1., 1., 1., 1., 1., 1.,\n",
       "        1., 1., 1., 0., 1., 0., 1., 1., 0., 1., 0., 1., 0., 1., 1., 0.,\n",
       "        1., 1., 1., 0., 0., 1., 1., 1., 1., 1., 1., 1., 0., 1., 0., 1.,\n",
       "        0., 1., 1., 1., 1., 1., 1., 0., 1., 0., 1., 0., 1., 1., 0., 1.,\n",
       "        0., 1., 1., 0., 1., 0., 0., 0., 1., 0.],\n",
       "       [1., 0., 0., 2., 0., 2., 0., 2., 1., 2., 0., 0., 2., 2., 2., 0.,\n",
       "        2., 2., 2., 1., 0., 0., 2., 0., 1., 2., 2., 2., 2., 0., 2., 1.,\n",
       "        2., 2., 0., 1., 1., 2., 0., 0., 2., 0., 2., 2., 1., 2., 1., 0.,\n",
       "        1., 0., 0., 2., 2., 0., 0., 1., 2., 1., 0., 1., 0., 0., 1., 2.,\n",
       "        1., 0., 0., 1., 0., 1., 1., 2., 2., 1.],\n",
       "       [1., 0., 0., 2., 0., 2., 0., 2., 1., 2., 0., 0., 2., 2., 2., 0.,\n",
       "        2., 2., 2., 1., 0., 3., 2., 0., 1., 2., 2., 2., 2., 0., 2., 1.,\n",
       "        2., 2., 0., 1., 1., 2., 0., 0., 2., 0., 2., 2., 1., 2., 1., 0.,\n",
       "        1., 0., 0., 2., 2., 0., 0., 1., 2., 1., 0., 1., 0., 0., 1., 2.,\n",
       "        1., 0., 0., 1., 0., 1., 1., 2., 2., 1.],\n",
       "       [3., 2., 0., 4., 0., 2., 2., 2., 3., 2., 2., 0., 2., 4., 4., 0.,\n",
       "        4., 2., 4., 3., 0., 0., 2., 0., 3., 4., 4., 4., 4., 0., 2., 3.,\n",
       "        2., 2., 0., 3., 3., 2., 0., 0., 2., 0., 4., 1., 1., 2., 3., 0.,\n",
       "        3., 0., 0., 4., 2., 2., 2., 3., 4., 3., 0., 3., 0., 0., 3., 2.,\n",
       "        3., 0., 0., 3., 0., 3., 3., 4., 2., 3.],\n",
       "       [1., 5., 2., 3., 2., 5., 5., 4., 1., 4., 5., 2., 5., 3., 3., 2.,\n",
       "        4., 5., 3., 0., 2., 2., 4., 2., 1., 4., 4., 3., 3., 2., 4., 1.,\n",
       "        5., 4., 2., 0., 0., 4., 2., 2., 4., 2., 3., 0., 0., 5., 1., 2.,\n",
       "        1., 2., 2., 3., 4., 5., 5., 1., 3., 1., 2., 1., 2., 2., 1., 4.,\n",
       "        1., 2., 2., 1., 2., 1., 1., 3., 4., 1.],\n",
       "       [3., 5., 0., 4., 0., 5., 5., 6., 3., 2., 5., 0., 5., 4., 4., 0.,\n",
       "        6., 5., 4., 1., 0., 0., 2., 0., 3., 2., 6., 4., 4., 0., 2., 3.,\n",
       "        5., 6., 2., 1., 1., 6., 0., 0., 6., 0., 4., 1., 1., 5., 3., 0.,\n",
       "        3., 0., 0., 4., 6., 5., 5., 3., 4., 3., 0., 3., 0., 2., 3., 2.,\n",
       "        3., 0., 0., 3., 0., 3., 3., 4., 6., 3.],\n",
       "       [7., 5., 1., 2., 3., 5., 5., 6., 7., 4., 5., 3., 5., 2., 2., 3.,\n",
       "        6., 5., 2., 0., 3., 3., 4., 1., 7., 4., 6., 2., 2., 1., 4., 7.,\n",
       "        5., 6., 4., 0., 0., 6., 1., 1., 6., 1., 2., 0., 0., 5., 7., 1.,\n",
       "        7., 3., 1., 2., 6., 5., 5., 7., 2., 7., 1., 2., 1., 4., 7., 4.,\n",
       "        7., 3., 1., 7., 3., 7., 7., 2., 6., 7.]])"
      ]
     },
     "execution_count": 10,
     "metadata": {},
     "output_type": "execute_result"
    }
   ],
   "source": [
    "cluster.hierarchical_clusters"
   ]
  },
  {
   "cell_type": "code",
   "execution_count": 11,
   "metadata": {},
   "outputs": [
    {
     "data": {
      "text/plain": [
       "<matplotlib.axes._subplots.AxesSubplot at 0x2540bae22b0>"
      ]
     },
     "execution_count": 11,
     "metadata": {},
     "output_type": "execute_result"
    },
    {
     "data": {
      "image/png": "[encoded data removed]",
      "text/plain": [
       "<Figure size 432x288 with 2 Axes>"
      ]
     },
     "metadata": {
      "needs_background": "light"
     },
     "output_type": "display_data"
    }
   ],
   "source": [
    "clus = np.arange(74)[cluster.hierarchical_clusters[2] == 0]\n",
    "\n",
    "t = dict(zip(np.arange(74), entity_set.keys()))\n",
    "r = {k: v for k, v in t.items() if k in clus}\n",
    "\n",
    "temp = []\n",
    "\n",
    "for coun in r.values():\n",
    "    temp.append(entity_set[coun]._correlation)\n",
    "    \n",
    "sns.heatmap(np.array(temp).mean(axis=0), cmap=\"viridis\")"
   ]
  },
  {
   "cell_type": "code",
   "execution_count": 12,
   "metadata": {},
   "outputs": [
    {
     "data": {
      "text/plain": [
       "<matplotlib.axes._subplots.AxesSubplot at 0x2540b8867b8>"
      ]
     },
     "execution_count": 12,
     "metadata": {},
     "output_type": "execute_result"
    },
    {
     "data": {
      "image/png": "[encoded data removed]",
      "text/plain": [
       "<Figure size 432x288 with 2 Axes>"
      ]
     },
     "metadata": {
      "needs_background": "light"
     },
     "output_type": "display_data"
    }
   ],
   "source": [
    "clus = np.arange(74)[cluster.hierarchical_clusters[2] == 1]\n",
    "\n",
    "t = dict(zip(np.arange(74), entity_set.keys()))\n",
    "r = {k: v for k, v in t.items() if k in clus}\n",
    "\n",
    "temp = []\n",
    "\n",
    "for coun in r.values():\n",
    "    temp.append(entity_set[coun]._correlation)\n",
    "    \n",
    "sns.heatmap(np.array(temp).mean(axis=0), cmap=\"viridis\")"
   ]
  },
  {
   "cell_type": "code",
   "execution_count": 18,
   "metadata": {},
   "outputs": [
    {
     "data": {
      "text/plain": [
       "<matplotlib.axes._subplots.AxesSubplot at 0x2540c2c5d68>"
      ]
     },
     "execution_count": 18,
     "metadata": {},
     "output_type": "execute_result"
    },
    {
     "data": {
      "image/png": "[encoded data removed]",
      "text/plain": [
       "<Figure size 432x288 with 2 Axes>"
      ]
     },
     "metadata": {
      "needs_background": "light"
     },
     "output_type": "display_data"
    }
   ],
   "source": [
    "clus = np.arange(74)[cluster.hierarchical_clusters[2] == 2]\n",
    "\n",
    "t = dict(zip(np.arange(74), entity_set.keys()))\n",
    "r = {k: v for k, v in t.items() if k in clus}\n",
    "\n",
    "temp = []\n",
    "\n",
    "for coun in r.values():\n",
    "    temp.append(entity_set[coun]._correlation)\n",
    "    \n",
    "sns.heatmap(np.array(temp).mean(axis=0), cmap=\"viridis\")"
   ]
  },
  {
   "cell_type": "code",
   "execution_count": 15,
   "metadata": {},
   "outputs": [
    {
     "data": {
      "text/plain": [
       "<matplotlib.axes._subplots.AxesSubplot at 0x2540b817438>"
      ]
     },
     "execution_count": 15,
     "metadata": {},
     "output_type": "execute_result"
    },
    {
     "data": {
      "image/png": "[encoded data removed]",
      "text/plain": [
       "<Figure size 432x288 with 2 Axes>"
      ]
     },
     "metadata": {
      "needs_background": "light"
     },
     "output_type": "display_data"
    }
   ],
   "source": [
    "clus = np.arange(74)[cluster.hierarchical_clusters[2] == 3]\n",
    "\n",
    "t = dict(zip(np.arange(74), entity_set.keys()))\n",
    "r = {k: v for k, v in t.items() if k in clus}\n",
    "\n",
    "temp = []\n",
    "\n",
    "for coun in r.values():\n",
    "    temp.append(entity_set[coun]._correlation)\n",
    "    \n",
    "sns.heatmap(np.array(temp).mean(axis=0), cmap=\"viridis\")"
   ]
  },
  {
   "cell_type": "code",
   "execution_count": null,
   "metadata": {},
   "outputs": [],
   "source": []
  }
 ],
 "metadata": {
  "kernelspec": {
   "display_name": "Python [conda env:root] *",
   "language": "python",
   "name": "conda-root-py"
  },
  "language_info": {
   "codemirror_mode": {
    "name": "ipython",
    "version": 3
   },
   "file_extension": ".py",
   "mimetype": "text/x-python",
   "name": "python",
   "nbconvert_exporter": "python",
   "pygments_lexer": "ipython3",
   "version": "3.6.10"
  }
 },
 "nbformat": 4,
 "nbformat_minor": 4
}
